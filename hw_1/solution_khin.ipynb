{
 "cells": [
  {
   "cell_type": "code",
   "execution_count": 1,
   "metadata": {},
   "outputs": [],
   "source": [
    "import json"
   ]
  },
  {
   "cell_type": "code",
   "execution_count": 2,
   "metadata": {},
   "outputs": [],
   "source": [
    "# first task\n",
    "with open('data/purchase_log.txt') as df1:\n",
    "    purchase_log = df1.readlines()\n",
    "    purchases = {}\n",
    "    for i, line in enumerate(purchase_log):\n",
    "        if i:\n",
    "            key = json.loads(line)['user_id']\n",
    "            value = json.loads(line)['category']\n",
    "            purchases[key] = value"
   ]
  },
  {
   "cell_type": "code",
   "execution_count": 3,
   "metadata": {},
   "outputs": [
    {
     "name": "stdout",
     "output_type": "stream",
     "text": [
      "1840e0b9d4: Продукты\n",
      "4e4f90fcfb: Электроника\n"
     ]
    }
   ],
   "source": [
    "# testing task1\n",
    "it = iter(purchases)\n",
    "for x in range(2):\n",
    "    key = next(it)\n",
    "    value = purchases[key]\n",
    "    print(f'{key}: {value}')"
   ]
  },
  {
   "cell_type": "markdown",
   "metadata": {},
   "source": [
    "---"
   ]
  },
  {
   "cell_type": "code",
   "execution_count": 4,
   "metadata": {},
   "outputs": [],
   "source": [
    "# second task\n",
    "with open('data/visit_log.csv') as df1:\n",
    "    with open('data/funnel.csv', 'w') as funnel:\n",
    "        visit_row = df1.readline()\n",
    "        funnel.write('user_id,source,category\\n')\n",
    "        while visit_row:\n",
    "            user_id = visit_row.split(',')[0]\n",
    "            if user_id in purchases:\n",
    "                funnel_line = visit_row.strip() + ',' + purchases[user_id] + '\\n'\n",
    "                funnel.write(funnel_line)\n",
    "            visit_row = df1.readline()"
   ]
  },
  {
   "cell_type": "code",
   "execution_count": 5,
   "metadata": {},
   "outputs": [
    {
     "name": "stdout",
     "output_type": "stream",
     "text": [
      "user_id,source,category\n",
      "\n",
      "1840e0b9d4,other,Продукты\n",
      "\n",
      "4e4f90fcfb,context,Электроника\n",
      "\n"
     ]
    }
   ],
   "source": [
    "# testing task2\n",
    "it = iter(purchases)\n",
    "with open('data/funnel.csv', 'r') as funnel:\n",
    "    for i in range(3):\n",
    "        print(funnel.readline())"
   ]
  },
  {
   "cell_type": "code",
   "execution_count": null,
   "metadata": {},
   "outputs": [],
   "source": []
  }
 ],
 "metadata": {
  "kernelspec": {
   "display_name": "Python 3 (ipykernel)",
   "language": "python",
   "name": "python3"
  },
  "language_info": {
   "codemirror_mode": {
    "name": "ipython",
    "version": 3
   },
   "file_extension": ".py",
   "mimetype": "text/x-python",
   "name": "python",
   "nbconvert_exporter": "python",
   "pygments_lexer": "ipython3",
   "version": "3.12.4"
  },
  "vscode": {
   "interpreter": {
    "hash": "b0fa6594d8f4cbf19f97940f81e996739fb7646882a419484c72d19e05852a7e"
   }
  }
 },
 "nbformat": 4,
 "nbformat_minor": 4
}
