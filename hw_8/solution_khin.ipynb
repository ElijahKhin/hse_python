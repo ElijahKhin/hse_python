{
 "cells": [
  {
   "cell_type": "code",
   "execution_count": 303,
   "id": "10547466-3871-4258-9c91-ed5c1398bd5d",
   "metadata": {},
   "outputs": [],
   "source": [
    "import pandas as pd"
   ]
  },
  {
   "cell_type": "markdown",
   "id": "07c21e0d-75c0-40b4-a586-d6b16447e944",
   "metadata": {},
   "source": [
    "## Task #1\n",
    "С помощью подхода **MapReduce** посчитайте **среднюю погоду по каждому городу за представленный период**"
   ]
  },
  {
   "cell_type": "code",
   "execution_count": 304,
   "id": "39e0e80a-b6c2-4f48-8cf2-6abb99224d73",
   "metadata": {},
   "outputs": [],
   "source": [
    "#Reading data\n",
    "\n",
    "weather = pd.read_csv('city_weather.csv', sep=',')"
   ]
  },
  {
   "cell_type": "markdown",
   "id": "656018b0-fab3-4b8f-b753-c3bc7f06ee87",
   "metadata": {},
   "source": [
    "### t1 / mapping\n",
    "1. Предположим, что для каждого города существует индекс.\n",
    "2. Для всех городов, кроме Грозного, Владикавказа и Челябинска, количество измерений равно 31. Для того чтобы не считать количество дней для каждого города на кластере в цикле добавим столбец с этой информацией на этапе маппинга. "
   ]
  },
  {
   "cell_type": "code",
   "execution_count": 305,
   "id": "ed0c6c99-d26d-4535-9cf9-eaa708ab0474",
   "metadata": {},
   "outputs": [],
   "source": [
    "sort_unq_city_lst = weather.city.unique()\n",
    "sort_unq_city_lst.sort()"
   ]
  },
  {
   "cell_type": "code",
   "execution_count": 306,
   "id": "a86872c0-6c58-4208-be72-df7ea426323e",
   "metadata": {},
   "outputs": [
    {
     "data": {
      "text/plain": [
       "array(['Абакан', 'Анадырь', 'Архангельск', 'Астрахань', 'Барнаул',\n",
       "       'Биробиджан', 'Благовещенск', 'Брянск', 'Великий Новгород',\n",
       "       'Владивосток', 'Владикавказ', 'Владимир', 'Волгоград', 'Вологда',\n",
       "       'Воронеж', 'Грозный', 'Екатеринбург', 'Иваново', 'Ижевск',\n",
       "       'Иркутск', 'Йошкар-Ола', 'Казань', 'Калининград', 'Калуга',\n",
       "       'Кемерово', 'Киров', 'Кострома', 'Краснодар', 'Курган', 'Курск',\n",
       "       'Кызыл', 'Липецк', 'Магадан', 'Майкоп', 'Махачкала', 'Москва',\n",
       "       'Мурманск', 'Нальчик', 'Нижний Новгород', 'Новосибирск', 'Омск',\n",
       "       'Орел', 'Оренбург', 'Пенза', 'Пермь', 'Петрозаводск',\n",
       "       'Петропавловск-Камчатский', 'Псков', 'Ростов', 'Рязань',\n",
       "       'Салехард', 'Самара', 'Санкт-Петербург', 'Саранск', 'Смоленск',\n",
       "       'Ставрополь', 'Сыктывкар', 'Тамбов', 'Тверь', 'Томск', 'Тула',\n",
       "       'Тюмень', 'Улан-Удэ', 'Уфа', 'Хабаровск', 'Ханты-Мансийск',\n",
       "       'Чебоксары', 'Челябинск', 'Чита', 'Элиста', 'Южно-Сахалинск',\n",
       "       'Якутск'], dtype=object)"
      ]
     },
     "execution_count": 306,
     "metadata": {},
     "output_type": "execute_result"
    }
   ],
   "source": [
    "sort_unq_city_lst"
   ]
  },
  {
   "cell_type": "code",
   "execution_count": 307,
   "id": "eb14a19d-95df-47c6-8e2c-c9f8d715d6fe",
   "metadata": {},
   "outputs": [],
   "source": [
    "# Добавляем индекс для каждого города\n",
    "sort_unq_city_lst = weather.city.unique()\n",
    "sort_unq_city_lst.sort()\n",
    "\n",
    "city_to_idx = dict(zip(sort_unq_city_lst,range(1, 73)))"
   ]
  },
  {
   "cell_type": "code",
   "execution_count": 308,
   "id": "59d019ea-7f1b-4475-9c0f-7f3a6c18f289",
   "metadata": {},
   "outputs": [],
   "source": [
    "# Добавим столбец с количеством измерений для каждого города\n",
    "\n",
    "with open('data_t1/city_weather_after_mapper.csv', 'w') as f_mapper:\n",
    "    with open('city_weather.csv') as f:\n",
    "        for i, line in enumerate(f):\n",
    "            if not i:\n",
    "                continue\n",
    "            \n",
    "            city, date, day_temp, night_temp = line.strip().split(',')\n",
    "    \n",
    "            idx_city = city_to_idx[city]\n",
    "            if city == 'Грозный' or city == 'Владикавказ':\n",
    "                periods_num = 5\n",
    "            elif city == 'Челябинск':\n",
    "                periods_num = 17\n",
    "            else:\n",
    "                periods_num = 31\n",
    "            f_mapper.write(f'{idx_city}, {day_temp}, {night_temp}, {periods_num}\\n')\n",
    "            "
   ]
  },
  {
   "cell_type": "markdown",
   "id": "f7471f5b-ac4f-43bb-b078-556df6e18790",
   "metadata": {},
   "source": [
    "### t1 / shuffle\n",
    "Сортируем полученный после маппинга датафрейм по индексу города"
   ]
  },
  {
   "cell_type": "code",
   "execution_count": 309,
   "id": "cb288885-052e-4317-a437-85a15c0523d2",
   "metadata": {},
   "outputs": [],
   "source": [
    "! cat data_t1/city_weather_after_mapper.csv | sort -k1,1n > data_t1/city_weather_am_sorted.csv"
   ]
  },
  {
   "cell_type": "markdown",
   "id": "53a76b6b-80a4-4ce5-8040-6a4320a78e54",
   "metadata": {},
   "source": [
    "### t1 / reduce"
   ]
  },
  {
   "cell_type": "code",
   "execution_count": 310,
   "id": "24dab2e4-b2c3-4bba-937c-9fd0e3c5ab86",
   "metadata": {},
   "outputs": [],
   "source": [
    "with open('data_t1/city_weather_reducer.csv', 'w') as f_reducer:\n",
    "    f_reducer.write('idx_city,avg_dtemp,avg_ntemp,avg_temp\\n')\n",
    "    with open('data_t1/city_weather_am_sorted.csv') as f:\n",
    "        day_num, ttl_dtemp, ttl_ntemp = 1, 0, 0\n",
    "        for i, line in enumerate(f):\n",
    "            idx_city, day_temp, night_temp, periods_num = line.strip().split(',')\n",
    "            periods_num = int(periods_num)\n",
    "            ttl_dtemp += float(day_temp)\n",
    "            ttl_ntemp += float(night_temp)\n",
    "\n",
    "            if day_num == periods_num:\n",
    "                f_reducer.write(\n",
    "                    f'{idx_city}, \\\n",
    "                    {round(ttl_dtemp / periods_num, 2)}, \\\n",
    "                    {round(ttl_ntemp / periods_num, 2)}, \\\n",
    "                    {round((ttl_dtemp + ttl_ntemp) / periods_num / 2, 2)}\\n')\n",
    "                day_num, ttl_dtemp, ttl_ntemp = 1, 0, 0\n",
    "            else:\n",
    "                day_num += 1"
   ]
  },
  {
   "cell_type": "markdown",
   "id": "91d8e491-9c35-4377-9142-6d7ce69b3723",
   "metadata": {},
   "source": [
    "### Ответ на task #1\n",
    "После вычислений получаем следующий датафрейм: \\\n",
    "idx_city - индекс города \\\n",
    "avg_dtemp - средняя температура в городе в дневное время суток \\\n",
    "avg_ntemp - средняя температура в городе в ночное время суток \\\n",
    "avg_temp - средняя температура в городе"
   ]
  },
  {
   "cell_type": "code",
   "execution_count": 311,
   "id": "0c45d174-2ec8-4d4d-b9e8-625cb419b55c",
   "metadata": {},
   "outputs": [
    {
     "data": {
      "text/html": [
       "<div>\n",
       "<style scoped>\n",
       "    .dataframe tbody tr th:only-of-type {\n",
       "        vertical-align: middle;\n",
       "    }\n",
       "\n",
       "    .dataframe tbody tr th {\n",
       "        vertical-align: top;\n",
       "    }\n",
       "\n",
       "    .dataframe thead th {\n",
       "        text-align: right;\n",
       "    }\n",
       "</style>\n",
       "<table border=\"1\" class=\"dataframe\">\n",
       "  <thead>\n",
       "    <tr style=\"text-align: right;\">\n",
       "      <th></th>\n",
       "      <th>idx_city</th>\n",
       "      <th>avg_dtemp</th>\n",
       "      <th>avg_ntemp</th>\n",
       "      <th>avg_temp</th>\n",
       "    </tr>\n",
       "  </thead>\n",
       "  <tbody>\n",
       "    <tr>\n",
       "      <th>0</th>\n",
       "      <td>1</td>\n",
       "      <td>3.87</td>\n",
       "      <td>-7.16</td>\n",
       "      <td>-1.65</td>\n",
       "    </tr>\n",
       "    <tr>\n",
       "      <th>1</th>\n",
       "      <td>2</td>\n",
       "      <td>-7.74</td>\n",
       "      <td>-17.52</td>\n",
       "      <td>-12.63</td>\n",
       "    </tr>\n",
       "    <tr>\n",
       "      <th>2</th>\n",
       "      <td>3</td>\n",
       "      <td>1.72</td>\n",
       "      <td>-7.23</td>\n",
       "      <td>-2.75</td>\n",
       "    </tr>\n",
       "    <tr>\n",
       "      <th>3</th>\n",
       "      <td>4</td>\n",
       "      <td>13.94</td>\n",
       "      <td>1.71</td>\n",
       "      <td>7.82</td>\n",
       "    </tr>\n",
       "    <tr>\n",
       "      <th>4</th>\n",
       "      <td>5</td>\n",
       "      <td>1.21</td>\n",
       "      <td>-8.86</td>\n",
       "      <td>-3.83</td>\n",
       "    </tr>\n",
       "  </tbody>\n",
       "</table>\n",
       "</div>"
      ],
      "text/plain": [
       "   idx_city  avg_dtemp  avg_ntemp  avg_temp\n",
       "0         1       3.87      -7.16     -1.65\n",
       "1         2      -7.74     -17.52    -12.63\n",
       "2         3       1.72      -7.23     -2.75\n",
       "3         4      13.94       1.71      7.82\n",
       "4         5       1.21      -8.86     -3.83"
      ]
     },
     "execution_count": 311,
     "metadata": {},
     "output_type": "execute_result"
    }
   ],
   "source": [
    "pd.read_csv('data_t1/city_weather_reducer.csv', sep=',').head()"
   ]
  },
  {
   "cell_type": "markdown",
   "id": "453742a9-bb2a-4367-9e6a-f2541bf6962e",
   "metadata": {},
   "source": [
    "## Task #2\n",
    "С помощью подхода **MapReduce** посчитайте **среднюю температуру по федеральному округу**"
   ]
  },
  {
   "cell_type": "markdown",
   "id": "924c2036-bf1e-428b-bab3-fb28685ac06a",
   "metadata": {},
   "source": [
    "В качестве данных с температурой по городам будем использовать датафрейм из прошлой задачи city_weather_am_sorted.csv"
   ]
  },
  {
   "cell_type": "markdown",
   "id": "bdd45c6b-9cec-4e7d-ad57-813a6499af6b",
   "metadata": {},
   "source": [
    "### t2 / mapping\n",
    "0. Чистим district_to_city.csv от дублей в атрибуте city\n",
    "1. Как и в первой задаче, предположим, что для каждого города существует индекс, а также для каждого региона.\n",
    "2. Для всех городов, кроме Грозного, Владикавказа и Челябинска, количество измерений равно 31. Добавим столбец с периодом измерений на этапе маппинга для каждого региона.\n",
    "3. Добавим дополнительные столбцы для конкатенации датафреймов."
   ]
  },
  {
   "cell_type": "code",
   "execution_count": 292,
   "id": "6a11b1b9-706d-473b-916a-b4da6e522722",
   "metadata": {},
   "outputs": [],
   "source": [
    "# Regions pre-mapping. Adding quantity of measurements for each region\n",
    "regions = pd.read_csv('district_to_city.csv', sep=',').query('city in @sort_unq_city_lst').drop_duplicates(subset=['city'])\n",
    "\n",
    "regions['periods_num'] = [31 if city not in ['Грозный', 'Владикавказ', 'Челябинск'] else 5 if city in ['Грозный', 'Владикавказ'] else 17 if city == 'Челябинск' else 0 for city in regions.city]\n",
    "regions['region_periods_num'] = regions.groupby('federal_district')['periods_num'].transform('sum')\n",
    "regions[['federal_district', 'city', 'region_periods_num']].to_csv('data_t2/regions_pre_mapper.csv', sep=',', index=0)"
   ]
  },
  {
   "cell_type": "code",
   "execution_count": 294,
   "id": "cd5ba642-3c71-4279-bbf5-9e41863c5a44",
   "metadata": {},
   "outputs": [],
   "source": [
    "with open('data_t2/t2_after_mapper.csv', 'w') as f_mapper:\n",
    "    with open('data_t2/regions_pre_mapper.csv') as f:\n",
    "        regions_to_idx = dict(zip(regions.federal_district.unique(),range(1, 9)))\n",
    "        city_to_idx = dict(zip(sort_unq_city_lst,range(1, 73)))\n",
    "        for i, line in enumerate(f):\n",
    "            if not i:\n",
    "                continue\n",
    "            region, city, region_periods_num = line.strip().split(',')\n",
    "            \n",
    "            idx_region = regions_to_idx[region]\n",
    "            idx_city = city_to_idx[city]\n",
    "            f_mapper.write(f'{idx_region},{idx_city},-,-,{region_periods_num}\\n')\n",
    "\n",
    "    with open('data_t1/city_weather_am_sorted.csv') as f:\n",
    "        for i, line in enumerate(f):\n",
    "            idx_city, day_temp, night_temp, periods_num = line.strip().split(',')\n",
    "            f_mapper.write(f'-,{idx_city},{day_temp},{night_temp},-\\n')"
   ]
  },
  {
   "cell_type": "code",
   "execution_count": 295,
   "id": "bd272525-7497-41af-905f-777466e9e702",
   "metadata": {},
   "outputs": [],
   "source": [
    "! cat data_t2/t2_after_mapper.csv | sort -t, -k2,2n -k1,1nr > data_t2/t2_am_sorted.csv"
   ]
  },
  {
   "cell_type": "code",
   "execution_count": 296,
   "id": "6f53863b-4459-4afc-9489-9b5ff9edb920",
   "metadata": {},
   "outputs": [],
   "source": [
    "# Merging\n",
    "with open('data_t2/t2_pre_reduce.csv', 'w') as f_mapper:\n",
    "    with open('data_t2/t2_am_sorted.csv') as f:\n",
    "        for i, line in enumerate(f):\n",
    "            idx_region, idx_city, day_temp, night_temp, periods_num = line.strip().split(',')\n",
    "            \n",
    "            if idx_region != '-':\n",
    "                curr_region, curr_pnum = idx_region, periods_num\n",
    "            else:\n",
    "                f_mapper.write(f'{curr_region},{day_temp},{night_temp},{curr_pnum}\\n')"
   ]
  },
  {
   "cell_type": "markdown",
   "id": "614bee30-b7a7-4d8b-bde9-4b3cbab0102a",
   "metadata": {},
   "source": [
    "### t2 / shuffle\n",
    "Сортируем полученный после маппинга датафрейм по индексу региона"
   ]
  },
  {
   "cell_type": "code",
   "execution_count": 297,
   "id": "f9621830-faf5-4913-856d-a65aee361f47",
   "metadata": {},
   "outputs": [],
   "source": [
    "! cat data_t2/t2_pre_reduce.csv | sort -t, -k1,1n > data_t2/t2_pre_reduce_sorted.csv"
   ]
  },
  {
   "cell_type": "markdown",
   "id": "2dd568ac-6100-4ee4-b19c-2513a09b4eda",
   "metadata": {},
   "source": [
    "### t2 / reduce"
   ]
  },
  {
   "cell_type": "code",
   "execution_count": 313,
   "id": "72b7772b-5b52-4cd7-9e32-07ce368639cf",
   "metadata": {},
   "outputs": [],
   "source": [
    "with open('data_t2/t2_reduce.csv', 'w') as f_reducer:\n",
    "    f_reducer.write('idx_region,avg_dtemp,avg_ntemp,avg_temp\\n')\n",
    "    with open('data_t2/t2_pre_reduce_sorted.csv') as f:\n",
    "        ttl_dtemp, ttl_ntemp = 0, 0\n",
    "        fst_line = f.readline().strip().split(',')\n",
    "        curr_region, curr_pnum = fst_line[0], fst_line[-1]\n",
    "        for i, line in enumerate(f):\n",
    "            idx_region, day_temp, night_temp, periods_num = line.strip().split(',')\n",
    "            if idx_region != curr_region:\n",
    "                curr_pnum = int(curr_pnum)\n",
    "                f_reducer.write(\n",
    "                    f'{curr_region}, \\\n",
    "                    {round(ttl_dtemp / curr_pnum, 2)}, \\\n",
    "                    {round(ttl_ntemp / curr_pnum, 2)}, \\\n",
    "                    {round((ttl_dtemp + ttl_ntemp) / curr_pnum / 2, 2)}\\n'\n",
    "                )\n",
    "                ttl_dtemp, ttl_ntemp = 0, 0\n",
    "                curr_region = idx_region\n",
    "                curr_pnum = periods_num\n",
    "            ttl_dtemp += float(day_temp)\n",
    "            ttl_ntemp += float(night_temp)\n",
    "        curr_pnum = int(curr_pnum)\n",
    "        f_reducer.write(\n",
    "                    f'{curr_region}, \\\n",
    "                    {round(ttl_dtemp / curr_pnum, 2)}, \\\n",
    "                    {round(ttl_ntemp / curr_pnum, 2)}, \\\n",
    "                    {round((ttl_dtemp + ttl_ntemp) / curr_pnum / 2, 2)}\\n'\n",
    "                )"
   ]
  },
  {
   "cell_type": "markdown",
   "id": "9c21954c-b343-4a83-b7ae-97812b73a034",
   "metadata": {},
   "source": [
    "### Ответ на task #2\n",
    "После вычислений получаем следующий датафрейм: \\\n",
    "idx_region - индекс региона \\\n",
    "avg_dtemp - средняя температура в городе в дневное время суток \\\n",
    "avg_ntemp - средняя температура в городе в ночное время суток \\\n",
    "avg_temp - средняя температура в городе"
   ]
  },
  {
   "cell_type": "code",
   "execution_count": 316,
   "id": "a8034e08-a9f5-41d9-a665-6a3623a66c5a",
   "metadata": {},
   "outputs": [
    {
     "data": {
      "text/html": [
       "<div>\n",
       "<style scoped>\n",
       "    .dataframe tbody tr th:only-of-type {\n",
       "        vertical-align: middle;\n",
       "    }\n",
       "\n",
       "    .dataframe tbody tr th {\n",
       "        vertical-align: top;\n",
       "    }\n",
       "\n",
       "    .dataframe thead th {\n",
       "        text-align: right;\n",
       "    }\n",
       "</style>\n",
       "<table border=\"1\" class=\"dataframe\">\n",
       "  <thead>\n",
       "    <tr style=\"text-align: right;\">\n",
       "      <th></th>\n",
       "      <th>idx_region</th>\n",
       "      <th>avg_dtemp</th>\n",
       "      <th>avg_ntemp</th>\n",
       "      <th>avg_temp</th>\n",
       "    </tr>\n",
       "  </thead>\n",
       "  <tbody>\n",
       "    <tr>\n",
       "      <th>0</th>\n",
       "      <td>1</td>\n",
       "      <td>7.93</td>\n",
       "      <td>-0.53</td>\n",
       "      <td>3.70</td>\n",
       "    </tr>\n",
       "    <tr>\n",
       "      <th>1</th>\n",
       "      <td>2</td>\n",
       "      <td>3.49</td>\n",
       "      <td>-5.11</td>\n",
       "      <td>-0.81</td>\n",
       "    </tr>\n",
       "    <tr>\n",
       "      <th>2</th>\n",
       "      <td>3</td>\n",
       "      <td>5.45</td>\n",
       "      <td>-2.40</td>\n",
       "      <td>1.52</td>\n",
       "    </tr>\n",
       "    <tr>\n",
       "      <th>3</th>\n",
       "      <td>4</td>\n",
       "      <td>3.59</td>\n",
       "      <td>-4.52</td>\n",
       "      <td>-0.47</td>\n",
       "    </tr>\n",
       "    <tr>\n",
       "      <th>4</th>\n",
       "      <td>5</td>\n",
       "      <td>1.43</td>\n",
       "      <td>-9.96</td>\n",
       "      <td>-4.26</td>\n",
       "    </tr>\n",
       "    <tr>\n",
       "      <th>5</th>\n",
       "      <td>6</td>\n",
       "      <td>-0.75</td>\n",
       "      <td>-11.99</td>\n",
       "      <td>-6.37</td>\n",
       "    </tr>\n",
       "    <tr>\n",
       "      <th>6</th>\n",
       "      <td>7</td>\n",
       "      <td>12.59</td>\n",
       "      <td>1.13</td>\n",
       "      <td>6.86</td>\n",
       "    </tr>\n",
       "    <tr>\n",
       "      <th>7</th>\n",
       "      <td>8</td>\n",
       "      <td>11.53</td>\n",
       "      <td>2.78</td>\n",
       "      <td>7.15</td>\n",
       "    </tr>\n",
       "  </tbody>\n",
       "</table>\n",
       "</div>"
      ],
      "text/plain": [
       "   idx_region  avg_dtemp  avg_ntemp  avg_temp\n",
       "0           1       7.93      -0.53      3.70\n",
       "1           2       3.49      -5.11     -0.81\n",
       "2           3       5.45      -2.40      1.52\n",
       "3           4       3.59      -4.52     -0.47\n",
       "4           5       1.43      -9.96     -4.26\n",
       "5           6      -0.75     -11.99     -6.37\n",
       "6           7      12.59       1.13      6.86\n",
       "7           8      11.53       2.78      7.15"
      ]
     },
     "execution_count": 316,
     "metadata": {},
     "output_type": "execute_result"
    }
   ],
   "source": [
    "pd.read_csv('data_t2/t2_reduce.csv', sep=',')"
   ]
  },
  {
   "cell_type": "markdown",
   "id": "19513dd8-ca48-4176-949f-f2dac0d93a5d",
   "metadata": {},
   "source": [
    "## Task #3\n",
    "С помощью подхода **MapReduce** посчитайте **разницу между средней температурой города и федерального округа, к которому относится этот город.**"
   ]
  },
  {
   "cell_type": "markdown",
   "id": "31d00a91-cd84-452c-8e1a-bb39a721da88",
   "metadata": {},
   "source": [
    "1. На этапе маппинга нужно получить данные о соответствии названия городов и индексов.\n",
    "2. Заджойнить три таблицы: датафрейм индексов регионов и городов, датафрейм с температурой по регионам и датафрейм с температурой по городам\n",
    "3. Посчить разницу между средней температурой города и федерального округа, к которому относится этот город"
   ]
  },
  {
   "cell_type": "code",
   "execution_count": 326,
   "id": "55a83650-d282-4fd4-8c5e-07462bd3fe36",
   "metadata": {},
   "outputs": [],
   "source": [
    "with open('data_t3/t3_mapper_region_part.csv', 'w') as f_mapper:\n",
    "    with open('data_t2/regions_pre_mapper.csv') as f:\n",
    "        regions_to_idx = dict(zip(regions.federal_district.unique(),range(1, 9)))\n",
    "        city_to_idx = dict(zip(sort_unq_city_lst,range(1, 73)))\n",
    "        for i, line in enumerate(f):\n",
    "            if not i:\n",
    "                continue\n",
    "            region, city, region_periods_num = line.strip().split(',')\n",
    "            \n",
    "            idx_region = regions_to_idx[region]\n",
    "            idx_city = city_to_idx[city]\n",
    "            f_mapper.write(f'{idx_region},{idx_city},-,-,-,-,-,-,\\n')\n",
    "\n",
    "    with open('data_t2/t2_reduce.csv') as f:\n",
    "        for i, line in enumerate(f):\n",
    "            if not i:\n",
    "                continue\n",
    "            idx_region, avg_dtemp, avg_ntemp, avg_temp = line.strip().split(',')\n",
    "            f_mapper.write(f'{idx_region},-,{avg_dtemp},{avg_ntemp},{avg_temp},-,-,-\\n')"
   ]
  },
  {
   "cell_type": "code",
   "execution_count": 327,
   "id": "ba790a43-ca63-491b-8023-1f706945a5ec",
   "metadata": {},
   "outputs": [],
   "source": [
    "! cat data_t3/t3_mapper_region_part.csv | sort -t, -k1,1n -k2,2n > data_t3/t3_am_sorted.csv"
   ]
  },
  {
   "cell_type": "code",
   "execution_count": 336,
   "id": "811303f4-7c3f-4970-83fd-d43f466ce269",
   "metadata": {},
   "outputs": [],
   "source": [
    "# Merging Part1\n",
    "with open('data_t3/t3_mapper_region_part_clean.csv', 'w') as f_mapper:\n",
    "    with open('data_t3/t3_am_sorted.csv') as f:\n",
    "        for i, line in enumerate(f):\n",
    "            idx_region, idx_city, r_avg_dtemp, r_avg_ntemp, r_avg_temp = line.strip().split(',')[:5]\n",
    "            \n",
    "            if idx_city == '-':\n",
    "                cr_avg_dtemp, cr_avg_ntemp, cr_avg_temp = r_avg_dtemp, r_avg_ntemp, r_avg_temp\n",
    "            else:\n",
    "                f_mapper.write(f'{idx_region},{idx_city},{cr_avg_dtemp},{cr_avg_ntemp},{cr_avg_temp},-,-,-\\n')\n",
    "\n",
    "# Merging Part2\n",
    "with open('data_t3/t3_mapper_city_part.csv', 'w') as f_mapper:\n",
    "    with open('data_t3/t3_mapper_region_part_clean.csv') as f:\n",
    "        for i, line in enumerate(f):\n",
    "            idx_region, idx_city, r_avg_dtemp, r_avg_ntemp, r_avg_temp = line.strip().split(',')[:5]\n",
    "            f_mapper.write(f'{idx_region},{idx_city},{r_avg_dtemp},{r_avg_ntemp},{r_avg_temp},-,-,-\\n')\n",
    "    \n",
    "    with open('data_t1/city_weather_reducer.csv') as f:\n",
    "        for i, line in enumerate(f):\n",
    "            if not i:\n",
    "                continue\n",
    "            idx_city, avg_dtemp, avg_ntemp, avg_temp = line.strip().split(',')\n",
    "            f_mapper.write(f'-,{idx_city},-,-,-,{avg_dtemp},{avg_ntemp},{avg_temp}\\n')"
   ]
  },
  {
   "cell_type": "code",
   "execution_count": 337,
   "id": "0e9e3cab-baf1-4116-a35a-ff601e9228a0",
   "metadata": {},
   "outputs": [],
   "source": [
    "! cat data_t3/t3_mapper_city_part.csv | sort -t, -k2,2n -k1,1n > data_t3/t3_am_sorted_city.csv"
   ]
  },
  {
   "cell_type": "code",
   "execution_count": 342,
   "id": "12f55bcd-7e1f-4e92-b0c3-6192e47d7b05",
   "metadata": {},
   "outputs": [],
   "source": [
    "with open('data_t3/t3_mapper_clean.csv', 'w') as f_mapper:\n",
    "    with open('data_t3/t3_am_sorted_city.csv') as f:\n",
    "        for i, line in enumerate(f):\n",
    "            idx_region, idx_city, r_avg_dtemp, r_avg_ntemp, r_avg_temp, d_avg_dtemp, d_avg_ntemp, d_avg_temp = line.strip().split(',')\n",
    "            \n",
    "            if idx_region == '-':\n",
    "                cd_avg_dtemp, cd_avg_ntemp, cd_avg_temp = d_avg_dtemp, d_avg_ntemp, d_avg_temp\n",
    "            else:\n",
    "                f_mapper.write(f'{idx_region},{idx_city},{r_avg_dtemp},{r_avg_ntemp},{r_avg_temp},{cd_avg_dtemp},{cd_avg_ntemp},{cd_avg_temp}\\n')\n",
    "                "
   ]
  },
  {
   "cell_type": "code",
   "execution_count": 349,
   "id": "0d178515-8422-4072-9610-4764da0c8a94",
   "metadata": {},
   "outputs": [],
   "source": [
    "with open('data_t3/t3_reducer.csv', 'w') as f_reducer:\n",
    "    f_reducer.write('idx_region,idx_city,diff_dtemp,diff_ntemp,diff_temp\\n')\n",
    "    with open('data_t3/t3_mapper_clean.csv') as f:\n",
    "        for i, line in enumerate(f):\n",
    "            idx_region, idx_city, r_avg_dtemp, r_avg_ntemp, r_avg_temp, d_avg_dtemp, d_avg_ntemp, d_avg_temp = line.strip().split(',')\n",
    "            \n",
    "            f_reducer.write(\n",
    "                f'{idx_region}, \\\n",
    "                {idx_city}, \\\n",
    "                {round(float(r_avg_dtemp) - float(d_avg_dtemp), 2)}, \\\n",
    "                {round(float(r_avg_ntemp) - float(d_avg_ntemp), 2)}, \\\n",
    "                {round(float(r_avg_temp) - float(d_avg_temp), 2)}, \\n')"
   ]
  },
  {
   "cell_type": "markdown",
   "id": "afc98f2c-f6dc-46b2-9cd4-984987a724c3",
   "metadata": {},
   "source": [
    "### Ответ на task #3\n",
    "После вычислений получаем следующий датафрейм: \\\n",
    "idx_region - индекс региона \\\n",
    "idx_region - индекс города \\\n",
    "diff_dtemp - разница между средней температурой в дневное время суток \\\n",
    "diff_ntemp - разница между средней температурой в ночное время суток \\\n",
    "diff_temp - разница между средней температурой"
   ]
  },
  {
   "cell_type": "code",
   "execution_count": 359,
   "id": "d43e7bbd-de07-44c1-a22d-368653a680aa",
   "metadata": {},
   "outputs": [
    {
     "name": "stderr",
     "output_type": "stream",
     "text": [
      "/var/folders/8x/py78bv316g35sfyx4zxjd9vm0000gn/T/ipykernel_91482/1908477133.py:1: ParserWarning: Length of header or names does not match length of data. This leads to a loss of data with index_col=False.\n",
      "  pd.read_csv('data_t3/t3_reducer.csv', sep=',', index_col=False)\n"
     ]
    },
    {
     "data": {
      "text/html": [
       "<div>\n",
       "<style scoped>\n",
       "    .dataframe tbody tr th:only-of-type {\n",
       "        vertical-align: middle;\n",
       "    }\n",
       "\n",
       "    .dataframe tbody tr th {\n",
       "        vertical-align: top;\n",
       "    }\n",
       "\n",
       "    .dataframe thead th {\n",
       "        text-align: right;\n",
       "    }\n",
       "</style>\n",
       "<table border=\"1\" class=\"dataframe\">\n",
       "  <thead>\n",
       "    <tr style=\"text-align: right;\">\n",
       "      <th></th>\n",
       "      <th>idx_region</th>\n",
       "      <th>idx_city</th>\n",
       "      <th>diff_dtemp</th>\n",
       "      <th>diff_ntemp</th>\n",
       "      <th>diff_temp</th>\n",
       "    </tr>\n",
       "  </thead>\n",
       "  <tbody>\n",
       "    <tr>\n",
       "      <th>0</th>\n",
       "      <td>5</td>\n",
       "      <td>1</td>\n",
       "      <td>-2.44</td>\n",
       "      <td>-2.80</td>\n",
       "      <td>-2.61</td>\n",
       "    </tr>\n",
       "    <tr>\n",
       "      <th>1</th>\n",
       "      <td>6</td>\n",
       "      <td>2</td>\n",
       "      <td>6.99</td>\n",
       "      <td>5.53</td>\n",
       "      <td>6.26</td>\n",
       "    </tr>\n",
       "    <tr>\n",
       "      <th>2</th>\n",
       "      <td>2</td>\n",
       "      <td>3</td>\n",
       "      <td>1.77</td>\n",
       "      <td>2.12</td>\n",
       "      <td>1.94</td>\n",
       "    </tr>\n",
       "    <tr>\n",
       "      <th>3</th>\n",
       "      <td>7</td>\n",
       "      <td>4</td>\n",
       "      <td>-1.35</td>\n",
       "      <td>-0.58</td>\n",
       "      <td>-0.96</td>\n",
       "    </tr>\n",
       "    <tr>\n",
       "      <th>4</th>\n",
       "      <td>5</td>\n",
       "      <td>5</td>\n",
       "      <td>0.22</td>\n",
       "      <td>-1.10</td>\n",
       "      <td>-0.43</td>\n",
       "    </tr>\n",
       "    <tr>\n",
       "      <th>...</th>\n",
       "      <td>...</td>\n",
       "      <td>...</td>\n",
       "      <td>...</td>\n",
       "      <td>...</td>\n",
       "      <td>...</td>\n",
       "    </tr>\n",
       "    <tr>\n",
       "      <th>67</th>\n",
       "      <td>4</td>\n",
       "      <td>68</td>\n",
       "      <td>-0.54</td>\n",
       "      <td>-2.06</td>\n",
       "      <td>-1.31</td>\n",
       "    </tr>\n",
       "    <tr>\n",
       "      <th>68</th>\n",
       "      <td>5</td>\n",
       "      <td>69</td>\n",
       "      <td>-0.85</td>\n",
       "      <td>4.35</td>\n",
       "      <td>1.75</td>\n",
       "    </tr>\n",
       "    <tr>\n",
       "      <th>69</th>\n",
       "      <td>7</td>\n",
       "      <td>70</td>\n",
       "      <td>-1.00</td>\n",
       "      <td>0.32</td>\n",
       "      <td>-0.34</td>\n",
       "    </tr>\n",
       "    <tr>\n",
       "      <th>70</th>\n",
       "      <td>6</td>\n",
       "      <td>71</td>\n",
       "      <td>-2.58</td>\n",
       "      <td>-2.93</td>\n",
       "      <td>-2.75</td>\n",
       "    </tr>\n",
       "    <tr>\n",
       "      <th>71</th>\n",
       "      <td>6</td>\n",
       "      <td>72</td>\n",
       "      <td>8.55</td>\n",
       "      <td>13.07</td>\n",
       "      <td>10.81</td>\n",
       "    </tr>\n",
       "  </tbody>\n",
       "</table>\n",
       "<p>72 rows × 5 columns</p>\n",
       "</div>"
      ],
      "text/plain": [
       "    idx_region  idx_city  diff_dtemp  diff_ntemp  diff_temp\n",
       "0            5         1       -2.44       -2.80      -2.61\n",
       "1            6         2        6.99        5.53       6.26\n",
       "2            2         3        1.77        2.12       1.94\n",
       "3            7         4       -1.35       -0.58      -0.96\n",
       "4            5         5        0.22       -1.10      -0.43\n",
       "..         ...       ...         ...         ...        ...\n",
       "67           4        68       -0.54       -2.06      -1.31\n",
       "68           5        69       -0.85        4.35       1.75\n",
       "69           7        70       -1.00        0.32      -0.34\n",
       "70           6        71       -2.58       -2.93      -2.75\n",
       "71           6        72        8.55       13.07      10.81\n",
       "\n",
       "[72 rows x 5 columns]"
      ]
     },
     "execution_count": 359,
     "metadata": {},
     "output_type": "execute_result"
    }
   ],
   "source": [
    "pd.read_csv('data_t3/t3_reducer.csv', sep=',', index_col=False)"
   ]
  },
  {
   "cell_type": "code",
   "execution_count": null,
   "id": "796771b3-4acc-42ee-a917-a962176f373d",
   "metadata": {},
   "outputs": [],
   "source": []
  }
 ],
 "metadata": {
  "kernelspec": {
   "display_name": "Python 3 (ipykernel)",
   "language": "python",
   "name": "python3"
  },
  "language_info": {
   "codemirror_mode": {
    "name": "ipython",
    "version": 3
   },
   "file_extension": ".py",
   "mimetype": "text/x-python",
   "name": "python",
   "nbconvert_exporter": "python",
   "pygments_lexer": "ipython3",
   "version": "3.12.4"
  }
 },
 "nbformat": 4,
 "nbformat_minor": 5
}
