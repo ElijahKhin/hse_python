{
 "cells": [
  {
   "cell_type": "code",
   "execution_count": 193,
   "id": "d21266b4-c0ea-4406-aeb7-978ff04b88ad",
   "metadata": {},
   "outputs": [],
   "source": [
    "def isLeapYear(year: int) -> None:\n",
    "    if type(year) != int: \n",
    "        print(\"Invalid type of year: only integers allowed.\")\n",
    "        return    \n",
    "    if year <= 0:\n",
    "        print(\"Wrong value of year: must be greater than 0.\")\n",
    "        return \n",
    "    if year % 4:\n",
    "        print(f\"year = {year}\\nРезультат:\\nОбычный год\")\n",
    "    else:\n",
    "        print(f\"year = {year}\\nРезультат:\\nВисокосный год\")"
   ]
  },
  {
   "cell_type": "code",
   "execution_count": 211,
   "id": "13bb38ec-308d-4b96-959c-4d276fc5a616",
   "metadata": {},
   "outputs": [],
   "source": [
    "def isLuckyTicket(num: int) -> None:\n",
    "    if type(num) != int: \n",
    "        print(\"Invalid type of ticket number: only integers are allowed.\")\n",
    "        return\n",
    "    if num <= 0 or len(str(num)) != 6:\n",
    "        print(\"Wrong value of ticket number: must be a positive six-digit number.\")\n",
    "        return\n",
    "    first_half, second_half = 0, 0\n",
    "    for i, j in zip([*str(num)[0:3]], [*str(num)[3:6]]):\n",
    "        first_half += int(i)\n",
    "        second_half += int(j)\n",
    "    if (first_half == second_half):\n",
    "        print(f\"number = {num}\\nРезультат:\\nCчастливый билет\")\n",
    "    else:\n",
    "        print(f\"number = {num}\\nРезультат:\\nНесчастливый билет\")"
   ]
  },
  {
   "cell_type": "code",
   "execution_count": 212,
   "id": "18fd7a5f-dc40-4d60-9ef3-7460b4f1cb27",
   "metadata": {},
   "outputs": [
    {
     "name": "stdout",
     "output_type": "stream",
     "text": [
      "year = 2020\n",
      "Результат:\n",
      "Високосный год\n"
     ]
    }
   ],
   "source": [
    "isLeapYear(2020)"
   ]
  },
  {
   "cell_type": "code",
   "execution_count": 215,
   "id": "5b5abf53-f3a5-4964-bc26-582993c5e5a8",
   "metadata": {},
   "outputs": [
    {
     "name": "stdout",
     "output_type": "stream",
     "text": [
      "year = 2019\n",
      "Результат:\n",
      "Обычный год\n"
     ]
    }
   ],
   "source": [
    "isLeapYear(2019)"
   ]
  },
  {
   "cell_type": "code",
   "execution_count": 217,
   "id": "af3c2da4-db91-4298-858b-224c589fe8a1",
   "metadata": {},
   "outputs": [
    {
     "name": "stdout",
     "output_type": "stream",
     "text": [
      "number = 123456\n",
      "Результат:\n",
      "Несчастливый билет\n"
     ]
    }
   ],
   "source": [
    "isLuckyTicket(123456)"
   ]
  },
  {
   "cell_type": "code",
   "execution_count": 219,
   "id": "51cbd018-7c95-4b8c-8311-62973b752add",
   "metadata": {},
   "outputs": [
    {
     "name": "stdout",
     "output_type": "stream",
     "text": [
      "number = 123321\n",
      "Результат:\n",
      "Cчастливый билет\n"
     ]
    }
   ],
   "source": [
    "isLuckyTicket(123321)"
   ]
  }
 ],
 "metadata": {
  "kernelspec": {
   "display_name": "Python 3 (ipykernel)",
   "language": "python",
   "name": "python3"
  },
  "language_info": {
   "codemirror_mode": {
    "name": "ipython",
    "version": 3
   },
   "file_extension": ".py",
   "mimetype": "text/x-python",
   "name": "python",
   "nbconvert_exporter": "python",
   "pygments_lexer": "ipython3",
   "version": "3.12.4"
  }
 },
 "nbformat": 4,
 "nbformat_minor": 5
}
