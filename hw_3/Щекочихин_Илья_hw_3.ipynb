{
 "cells": [
  {
   "cell_type": "code",
   "execution_count": 187,
   "id": "28093ecc-6048-43ed-8492-2a86878965af",
   "metadata": {},
   "outputs": [],
   "source": [
    "class Account:\n",
    "    def __init__(self, name, balance):\n",
    "        self.__name = name\n",
    "        self.__balance = balance\n",
    "    \n",
    "    @staticmethod\n",
    "    def validate_amt(amt):\n",
    "        if type(amt) != int and type(amt) != float: \n",
    "            print(\"Invalid type of amount: only integers or floating point numbers are allowed.\")\n",
    "            return 2\n",
    "        elif amt < 0:\n",
    "            print(\"Wrong amount: must be greater than 0.\")\n",
    "            return 1\n",
    "        return 0\n",
    "\n",
    "    def deposit(self, amt):\n",
    "        if (self.validate_amt(amt) == 0): self.__balance += amt\n",
    "    \n",
    "    def withdraw(self, amt):\n",
    "        if (self.validate_amt(amt) == 0):\n",
    "            if (self.__balance < amt):\n",
    "                print(\"Operation declined: value exceeds account balance.\")\n",
    "                self.__balance = 0\n",
    "            else: self.__balance -= amt\n",
    "                  \n",
    "    def get_accout_balance(self):\n",
    "        return self.__balance\n",
    "\n",
    "    def set_balance(self, type_of_operation):\n",
    "        if (type_of_operation == 'deposit'): deposit(self, amt)\n",
    "        elif (type_of_operation == 'withdraw'): withdraw(self, amt)\n",
    "        else: print(\"Wrong type of operation: only 'deposit' or 'withdraw' operations are supported\")"
   ]
  }
 ],
 "metadata": {
  "kernelspec": {
   "display_name": "Python 3.10.1 64-bit ('3.10.1')",
   "language": "python",
   "name": "python3"
  },
  "language_info": {
   "codemirror_mode": {
    "name": "ipython",
    "version": 3
   },
   "file_extension": ".py",
   "mimetype": "text/x-python",
   "name": "python",
   "nbconvert_exporter": "python",
   "pygments_lexer": "ipython3",
   "version": "3.10.1"
  },
  "vscode": {
   "interpreter": {
    "hash": "749463c29d2175d87771fe471b3d170a25926d9edae2c70a0b9cfeb000c04938"
   }
  }
 },
 "nbformat": 4,
 "nbformat_minor": 5
}
