{
 "cells": [
  {
   "cell_type": "code",
   "execution_count": null,
   "id": "28093ecc-6048-43ed-8492-2a86878965af",
   "metadata": {},
   "outputs": [
    {
     "ename": "",
     "evalue": "",
     "output_type": "error",
     "traceback": [
      "\u001b[1;31mFailed to start the Kernel. \n",
      "\u001b[1;31mTraceback (most recent call last):\n",
      "\u001b[1;31m  File \"/Users/khin/.vscode/extensions/ms-toolsai.jupyter-2022.7.1102252217/pythonFiles/vscode_datascience_helpers/jupyter_daemon.py\", line 158, in _start_notebook\n",
      "\u001b[1;31m    from notebook import notebookapp as app\n",
      "\u001b[1;31m  File \"/Users/khin/.pyenv/versions/3.10.1/lib/python3.10/site-packages/notebook/notebookapp.py\", line 59, in <module>\n",
      "\u001b[1;31m    from tornado import httpserver\n",
      "\u001b[1;31m  File \"/Users/khin/.pyenv/versions/3.10.1/lib/python3.10/site-packages/tornado/httpserver.py\", line 29, in <module>\n",
      "\u001b[1;31m    import ssl\n",
      "\u001b[1;31m  File \"/Users/khin/.pyenv/versions/3.10.1/lib/python3.10/ssl.py\", line 98, in <module>\n",
      "\u001b[1;31m    import _ssl             # if we can't import it, let the error propagate\n",
      "\u001b[1;31mImportError: dlopen(/Users/khin/.pyenv/versions/3.10.1/lib/python3.10/lib-dynload/_ssl.cpython-310-darwin.so, 0x0002): Library not loaded: /opt/homebrew/opt/openssl@1.1/lib/libssl.1.1.dylib\n",
      "\u001b[1;31m  Referenced from: <0EA04741-2A0C-3334-888F-0A6F7D0942FB> /Users/khin/.pyenv/versions/3.10.1/lib/python3.10/lib-dynload/_ssl.cpython-310-darwin.so\n",
      "\u001b[1;31m  Reason: tried: '/opt/homebrew/opt/openssl@1.1/lib/libssl.1.1.dylib' (no such file), '/System/Volumes/Preboot/Cryptexes/OS/opt/homebrew/opt/openssl@1.1/lib/libssl.1.1.dylib' (no such file), '/opt/homebrew/opt/openssl@1.1/lib/libssl.1.1.dylib' (no such file), '/usr/local/lib/libssl.1.1.dylib' (no such file), '/usr/lib/libssl.1.1.dylib' (no such file, not in dyld cache)\n",
      "\u001b[1;31m\n",
      "\u001b[1;31mDuring handling of the above exception, another exception occurred:\n",
      "\u001b[1;31m\n",
      "\u001b[1;31mTraceback (most recent call last):\n",
      "\u001b[1;31m  File \"/Users/khin/.vscode/extensions/ms-toolsai.jupyter-2022.7.1102252217/pythonFiles/vscode_datascience_helpers/daemon/daemon_python.py\", line 54, in _decorator\n",
      "\u001b[1;31m    return func(self, *args, **kwargs)\n",
      "\u001b[1;31m  File \"/Users/khin/.vscode/extensions/ms-toolsai.jupyter-2022.7.1102252217/pythonFiles/vscode_datascience_helpers/jupyter_daemon.py\", line 111, in m_exec_module_observable\n",
      "\u001b[1;31m    self._start_notebook(args, cwd, env)\n",
      "\u001b[1;31m  File \"/Users/khin/.vscode/extensions/ms-toolsai.jupyter-2022.7.1102252217/pythonFiles/vscode_datascience_helpers/jupyter_daemon.py\", line 160, in _start_notebook\n",
      "\u001b[1;31m    from notebook import app as app\n",
      "\u001b[1;31mImportError: cannot import name 'app' from 'notebook' (/Users/khin/.pyenv/versions/3.10.1/lib/python3.10/site-packages/notebook/__init__.py)\n",
      "\u001b[1;31m\n",
      "\u001b[1;31mFailed to run jupyter as observable with args notebook --no-browser --notebook-dir=\"/Users/khin/local/hse/1st_semester/python/hw_3\" --config=/var/folders/8x/py78bv316g35sfyx4zxjd9vm0000gn/T/351617c8-0f0e-4d0d-aaeb-6efa8819ff0c/jupyter_notebook_config.py --NotebookApp.iopub_data_rate_limit=10000000000.0. \n",
      "View Jupyter <a href='command:jupyter.viewOutput'>log</a> for further details."
     ]
    }
   ],
   "source": [
    "class Account:\n",
    "    def __init__(self, name, balance):\n",
    "        self.__name = name\n",
    "        self.__balance = balance\n",
    "    \n",
    "    @staticmethod\n",
    "    def validate_amt(amt):\n",
    "        if type(amt) != int and type(amt) != float: \n",
    "            print(\"Invalid type of amount: only integers or floating point numbers are allowed.\")\n",
    "            return 2\n",
    "        elif amt < 0:\n",
    "            print(\"Wrong amount: must be greater than 0.\")\n",
    "            return 1\n",
    "        return 0\n",
    "\n",
    "    def deposit(self, amt):\n",
    "        if (self.validate_amt(amt) == 0): self.__balance += amt\n",
    "    \n",
    "    def withdraw(self, amt):\n",
    "        if (self.validate_amt(amt) == 0):\n",
    "            if (self.__balance < amt):\n",
    "                print(\"Operation declined: value exceeds account balance.\")\n",
    "                self.__balance = 0\n",
    "            else: self.__balance -= amt\n",
    "                  \n",
    "    def get_accout_balance(self):\n",
    "        return self.__balance\n",
    "\n",
    "    def set_balance(self, type_of_operation):\n",
    "        if (type_of_operation == 'deposit'): deposit(self, amt)\n",
    "        elif (type_of_operation == 'withdraw'): withdraw(self, amt)\n",
    "        else: print(\"Wrong type of operation: only 'deposit' or 'withdraw' operations are supported\")"
   ]
  }
 ],
 "metadata": {
  "kernelspec": {
   "display_name": "Python 3.10.1 64-bit ('3.10.1')",
   "language": "python",
   "name": "python3"
  },
  "language_info": {
   "codemirror_mode": {
    "name": "ipython",
    "version": 3
   },
   "file_extension": ".py",
   "mimetype": "text/x-python",
   "name": "python",
   "nbconvert_exporter": "python",
   "pygments_lexer": "ipython3",
   "version": "3.10.1"
  },
  "vscode": {
   "interpreter": {
    "hash": "749463c29d2175d87771fe471b3d170a25926d9edae2c70a0b9cfeb000c04938"
   }
  }
 },
 "nbformat": 4,
 "nbformat_minor": 5
}
