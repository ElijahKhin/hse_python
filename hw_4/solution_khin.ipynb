{
 "cells": [
  {
   "cell_type": "code",
   "execution_count": 24,
   "id": "8ca6cb40-6dc0-4f3b-8fbd-24a312ffa396",
   "metadata": {},
   "outputs": [],
   "source": [
    "import re"
   ]
  },
  {
   "cell_type": "code",
   "execution_count": 64,
   "id": "e071db16-ddb4-4836-9dd2-43a86aa4f76c",
   "metadata": {},
   "outputs": [],
   "source": [
    "def isValidCarNumber(car_number: str) -> None:\n",
    "    pattern = re.compile(r'^[АВЕКМНОРСТУХ]{1}\\d{3}[АВЕКМНОРСТУХ]{2}\\d{2,3}$')\n",
    "    matching = re.match(pattern, car_number)\n",
    "    if matching:\n",
    "        print(f'Результат: Номер {matching.group()[:6]} валиден. Регион: {matching.group()[6:]}.')\n",
    "    else:\n",
    "        print('Результат: Номер не валиден.')"
   ]
  },
  {
   "cell_type": "code",
   "execution_count": 67,
   "id": "572f9210-0cad-4876-a387-03d7d591532e",
   "metadata": {},
   "outputs": [
    {
     "name": "stdout",
     "output_type": "stream",
     "text": [
      "Результат: Номер А222ВВ валиден. Регион: 19.\n"
     ]
    }
   ],
   "source": [
    "matching = isValidCarNumber('А222ВВ19')"
   ]
  }
 ],
 "metadata": {
  "kernelspec": {
   "display_name": "Python 3 (ipykernel)",
   "language": "python",
   "name": "python3"
  },
  "language_info": {
   "codemirror_mode": {
    "name": "ipython",
    "version": 3
   },
   "file_extension": ".py",
   "mimetype": "text/x-python",
   "name": "python",
   "nbconvert_exporter": "python",
   "pygments_lexer": "ipython3",
   "version": "3.12.4"
  }
 },
 "nbformat": 4,
 "nbformat_minor": 5
}
