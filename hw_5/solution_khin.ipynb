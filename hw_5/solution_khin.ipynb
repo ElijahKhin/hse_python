{
 "cells": [
  {
   "cell_type": "code",
   "execution_count": 1,
   "id": "c59e8766-d432-46df-a152-1ca3268c02f6",
   "metadata": {},
   "outputs": [],
   "source": [
    "import time\n",
    "from concurrent.futures import ThreadPoolExecutor"
   ]
  },
  {
   "cell_type": "code",
   "execution_count": 2,
   "id": "d9430144-8bf2-4859-ade3-b8e20ca74162",
   "metadata": {},
   "outputs": [],
   "source": [
    "def formula1(x):\n",
    "    return x**2 - x**2 + x*4 - x*5 + x + x\n",
    "\n",
    "def formula2(x):\n",
    "    return x + x\n",
    "\n",
    "def formula3(result1, result2):\n",
    "    return result1 + result2\n",
    "\n",
    "def perform_iterations(num_iterations):\n",
    "    # Step 1: Perform formula1 in parallel\n",
    "    start_time = time.time()\n",
    "    with ThreadPoolExecutor() as executor:\n",
    "        results1 = list(executor.map(formula1, range(num_iterations)))\n",
    "    duration1 = time.time() - start_time\n",
    "\n",
    "    # Step 2: Perform formula2 in parallel\n",
    "    start_time = time.time()\n",
    "    with ThreadPoolExecutor() as executor:\n",
    "        results2 = list(executor.map(formula2, range(num_iterations)))\n",
    "    duration2 = time.time() - start_time\n",
    "\n",
    "    # Step 3: Perform formula3 sequentially\n",
    "    start_time = time.time()\n",
    "    results3 = [formula3(r1, r2) for r1, r2 in zip(results1, results2)]\n",
    "    duration3 = time.time() - start_time\n",
    "\n",
    "    return duration1, duration2, duration3"
   ]
  },
  {
   "cell_type": "code",
   "execution_count": 3,
   "id": "59f13dfd-fe49-4ecb-ac6f-57bfe318aab7",
   "metadata": {},
   "outputs": [
    {
     "name": "stdout",
     "output_type": "stream",
     "text": [
      "\n",
      "Performing 10000 iterations:\n",
      "Duration for formula 1: 0.109987 seconds\n",
      "Duration for formula 2: 0.075079 seconds\n",
      "Duration for formula 3: 0.000502 seconds\n",
      "\n",
      "Performing 100000 iterations:\n",
      "Duration for formula 1: 0.884797 seconds\n",
      "Duration for formula 2: 0.793238 seconds\n",
      "Duration for formula 3: 0.004979 seconds\n"
     ]
    }
   ],
   "source": [
    "for num_iterations in [10_000, 100_000]:\n",
    "    print(f\"\\nPerforming {num_iterations} iterations:\")\n",
    "    durations = perform_iterations(num_iterations)\n",
    "    print(f\"Duration for formula 1: {durations[0]:.6f} seconds\")\n",
    "    print(f\"Duration for formula 2: {durations[1]:.6f} seconds\")\n",
    "    print(f\"Duration for formula 3: {durations[2]:.6f} seconds\")"
   ]
  },
  {
   "cell_type": "code",
   "execution_count": null,
   "id": "cb304e6a-e6df-4259-9c7a-0317cc693481",
   "metadata": {},
   "outputs": [],
   "source": []
  }
 ],
 "metadata": {
  "kernelspec": {
   "display_name": "Python 3 (ipykernel)",
   "language": "python",
   "name": "python3"
  },
  "language_info": {
   "codemirror_mode": {
    "name": "ipython",
    "version": 3
   },
   "file_extension": ".py",
   "mimetype": "text/x-python",
   "name": "python",
   "nbconvert_exporter": "python",
   "pygments_lexer": "ipython3",
   "version": "3.12.4"
  }
 },
 "nbformat": 4,
 "nbformat_minor": 5
}
