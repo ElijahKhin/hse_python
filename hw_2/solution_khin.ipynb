{
 "cells": [
  {
   "cell_type": "code",
   "execution_count": 1,
   "id": "4741e34e-6404-4a6c-9259-dbb4ed25fb20",
   "metadata": {},
   "outputs": [],
   "source": [
    "from datetime import datetime\n",
    "from datetime import timedelta"
   ]
  },
  {
   "cell_type": "code",
   "execution_count": 2,
   "id": "63bb25c0-dbe9-42de-ab3d-ddc4f76c4aec",
   "metadata": {},
   "outputs": [
    {
     "name": "stdout",
     "output_type": "stream",
     "text": [
      "2002-10-02 00:00:00\n",
      "2013-10-11 00:00:00\n",
      "1977-08-18 00:00:00\n"
     ]
    }
   ],
   "source": [
    "#task1\n",
    "moscow_times = 'Wednesday, October 2, 2002'\n",
    "guardian = 'Friday, 11.10.13'\n",
    "daily_news = 'Thursday, 18 August 1977'\n",
    "\n",
    "moscow_times_dt = datetime.strptime(moscow_times, '%A, %B %d, %Y')\n",
    "guardian_dt = datetime.strptime(guardian, '%A, %d.%m.%y')\n",
    "daily_news_dt = datetime.strptime(daily_news, '%A, %d %B %Y')\n",
    "\n",
    "print(moscow_times_dt)\n",
    "print(guardian_dt)\n",
    "print(daily_news_dt)"
   ]
  },
  {
   "cell_type": "code",
   "execution_count": 3,
   "id": "d74e2864-d757-4d3f-b88a-68966e5c3b86",
   "metadata": {},
   "outputs": [],
   "source": [
    "#task2\n",
    "def date_range(start: str, end: str) -> list:\n",
    "    try:\n",
    "        start_dt, end_dt = datetime.strptime(start, '%Y-%m-%d'), datetime.strptime(end, '%Y-%m-%d') \n",
    "    except:\n",
    "        return []\n",
    "    if (start_dt > end_dt):\n",
    "        return []\n",
    "    return [(start_dt + timedelta(days=i)).strftime('%Y-%m-%d') for i in range((end_dt - start_dt).days+1)]"
   ]
  },
  {
   "cell_type": "code",
   "execution_count": 4,
   "id": "6929da00-adb1-4e43-8b7e-89179da07ef3",
   "metadata": {},
   "outputs": [
    {
     "data": {
      "text/plain": [
       "['2022-01-01', '2022-01-02', '2022-01-03']"
      ]
     },
     "execution_count": 4,
     "metadata": {},
     "output_type": "execute_result"
    }
   ],
   "source": [
    "date_range('2022-01-01', '2022-01-03')"
   ]
  },
  {
   "cell_type": "code",
   "execution_count": 5,
   "id": "9620cfbb-9073-4b25-8b39-af8dc5181f66",
   "metadata": {},
   "outputs": [
    {
     "data": {
      "text/plain": [
       "[]"
      ]
     },
     "execution_count": 5,
     "metadata": {},
     "output_type": "execute_result"
    }
   ],
   "source": [
    "date_range('2022-01-03', '2022-01-01')"
   ]
  },
  {
   "cell_type": "code",
   "execution_count": 6,
   "id": "33632aed-3ce7-488d-81de-283b652b55ba",
   "metadata": {},
   "outputs": [
    {
     "data": {
      "text/plain": [
       "[]"
      ]
     },
     "execution_count": 6,
     "metadata": {},
     "output_type": "execute_result"
    }
   ],
   "source": [
    "date_range('2022-02-30', '2022-02-31')"
   ]
  }
 ],
 "metadata": {
  "kernelspec": {
   "display_name": "Python 3 (ipykernel)",
   "language": "python",
   "name": "python3"
  },
  "language_info": {
   "codemirror_mode": {
    "name": "ipython",
    "version": 3
   },
   "file_extension": ".py",
   "mimetype": "text/x-python",
   "name": "python",
   "nbconvert_exporter": "python",
   "pygments_lexer": "ipython3",
   "version": "3.12.4"
  }
 },
 "nbformat": 4,
 "nbformat_minor": 5
}
