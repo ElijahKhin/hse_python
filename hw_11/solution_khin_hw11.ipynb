{
 "cells": [
  {
   "cell_type": "code",
   "execution_count": null,
   "id": "6add8c5c-1ca6-431b-8c76-204c34241035",
   "metadata": {},
   "outputs": [],
   "source": [
    "from confluent_kafka import Producer\n",
    "import json\n",
    "import random\n",
    "import time\n",
    "\n",
    "producer = Producer({'bootstrap.servers': 'localhost:9092'})\n",
    "\n",
    "actions = [\"login\", \"click\", \"purchase\", \"logout\"]\n",
    "\n",
    "def generate_event():\n",
    "    return {\n",
    "        \"user_id\": random.randint(1, 10),\n",
    "        \"action\": random.choice(actions),\n",
    "        \"timestamp\": time.strftime('%Y-%m-%dT%H:%M:%S')\n",
    "    }\n",
    "\n",
    "while True:\n",
    "    event = generate_event()\n",
    "    producer.produce('example_topic', json.dumps(event))\n",
    "    producer.flush()\n",
    "    print(f\"Produced: {event}\")\n",
    "    time.sleep(1)\n"
   ]
  },
  {
   "cell_type": "code",
   "execution_count": null,
   "id": "262bb5cb-36ce-447b-ac61-53243a768bd4",
   "metadata": {},
   "outputs": [],
   "source": [
    "from confluent_kafka import Consumer\n",
    "import json\n",
    "from collections import Counter\n",
    "\n",
    "consumer = Consumer({\n",
    "    'bootstrap.servers': 'localhost:9092',\n",
    "    'group.id': 'example_group',\n",
    "    'auto.offset.reset': 'earliest'\n",
    "})\n",
    "\n",
    "consumer.subscribe(['example_topic'])\n",
    "\n",
    "action_counts = Counter()\n",
    "\n",
    "try:\n",
    "    while True:\n",
    "        msg = consumer.poll(1.0)\n",
    "        if msg is None:\n",
    "            continue\n",
    "        if msg.error():\n",
    "            print(f\"Consumer error: {msg.error()}\")\n",
    "            continue\n",
    "\n",
    "        event = json.loads(msg.value().decode('utf-8'))\n",
    "        user_id = event['user_id']\n",
    "        action = event['action']\n",
    "        action_counts[(user_id, action)] += 1\n",
    "\n",
    "        print(f\"Received: {event}\")\n",
    "\n",
    "        # Анализ: топ пользователей по количеству действий\n",
    "        top_users = Counter({k[0]: v for k, v in action_counts.items() if k[1] in [\"click\", \"purchase\"]})\n",
    "        print(f\"Top users by actions: {top_users.most_common(3)}\")\n",
    "\n",
    "finally:\n",
    "    consumer.close()\n"
   ]
  }
 ],
 "metadata": {
  "kernelspec": {
   "display_name": "Python 3 (ipykernel)",
   "language": "python",
   "name": "python3"
  },
  "language_info": {
   "codemirror_mode": {
    "name": "ipython",
    "version": 3
   },
   "file_extension": ".py",
   "mimetype": "text/x-python",
   "name": "python",
   "nbconvert_exporter": "python",
   "pygments_lexer": "ipython3",
   "version": "3.12.4"
  }
 },
 "nbformat": 4,
 "nbformat_minor": 5
}
